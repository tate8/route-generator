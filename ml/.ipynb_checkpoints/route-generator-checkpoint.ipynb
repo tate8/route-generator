{
 "cells": [
  {
   "cell_type": "code",
   "execution_count": 7,
   "metadata": {},
   "outputs": [],
   "source": [
    "import torch\n",
    "import torch_geometric\n",
    "\n",
    "import glob\n",
    "import os"
   ]
  },
  {
   "cell_type": "code",
   "execution_count": 96,
   "metadata": {},
   "outputs": [],
   "source": [
    "class NetworkDataset(torch_geometric.data.Dataset):\n",
    "    def __init__(self, root, transform=None, pre_transform=None):\n",
    "        super().__init__(root, transform, pre_transform)\n",
    "    \n",
    "    @property\n",
    "    def file_names(self):\n",
    "        return glob.glob('data/*')\n",
    "    \n",
    "    def len(self):\n",
    "        return len(self.file_names)\n",
    "\n",
    "    def get(self, idx):\n",
    "        data = torch.load(os.path.join(self.root, f'data_{idx}.pt'))\n",
    "        return data"
   ]
  },
  {
   "cell_type": "code",
   "execution_count": 99,
   "metadata": {},
   "outputs": [],
   "source": [
    "normalize_features = torch_geometric.transforms.NormalizeFeatures(['edge_attr'])\n",
    "# transforms = torch_geometric.transforms.Compose([normalize_features])\n",
    "# dataset = NetworkDataset('data', transform=normalize_features)\n",
    "dataset = NetworkDataset('data')\n",
    "loader = torch_geometric.loader.DataLoader(dataset)"
   ]
  },
  {
   "cell_type": "code",
   "execution_count": 104,
   "metadata": {},
   "outputs": [
    {
     "name": "stdout",
     "output_type": "stream",
     "text": [
      "tensor([[1.7000e-02, 2.0000e+00, 3.8665e+02],\n",
      "        [1.7550e-01, 2.0000e+00, 1.8692e+01],\n",
      "        [1.9600e-02, 2.0000e+00, 1.6702e+02],\n",
      "        ...,\n",
      "        [1.7820e-01, 2.0000e+00, 9.2070e+01],\n",
      "        [2.9200e-02, 2.0000e+00, 4.4939e+02],\n",
      "        [4.3600e-01, 2.0000e+00, 1.6556e+02]], dtype=torch.float64)\n"
     ]
    }
   ],
   "source": [
    "print(torch.round(dataset[12].edge_attr, decimals=4))"
   ]
  },
  {
   "cell_type": "code",
   "execution_count": null,
   "metadata": {},
   "outputs": [],
   "source": [
    "class Stage1Model(torch.nn.Module):\n",
    "    '''\n",
    "        Propagates graph data to current node and neighbors\n",
    "    '''\n",
    "    def __init__(self, n_computation_blocks, out_embedding_dim):\n",
    "        super().__init__()\n",
    "        self.computation_blocks = []\n",
    "        first = torch_geometric.nn.conv.GCNConv(in_channels=-1, \n",
    "                                                out_channels=out_embedding_dim, \n",
    "                                                add_self_loops=False)\n",
    "        self.computation_blocks.append(first)\n",
    "        for _ in range(n_computation_blocks-1):\n",
    "            block = torch_geometric.nn.conv.GCNConv(in_channels=out_embedding_dim, \n",
    "                                            out_channels=out_embedding_dim, \n",
    "                                            add_self_loops=False)\n",
    "            self.computation_blocks.append(block)\n",
    "        \n",
    "    def forward(self, network_graph):\n",
    "        for block in computation_blocks:\n",
    "            network_graph = block(network_graph)\n",
    "            \n",
    "        return network_graph"
   ]
  },
  {
   "cell_type": "code",
   "execution_count": null,
   "metadata": {},
   "outputs": [],
   "source": [
    "class PreferenceEmbedder(torch.nn.Module):\n",
    "    '''\n",
    "        Embeds a (n_preferences, 1) user preference vector to a (embedding_dim, 1) vector\n",
    "    '''\n",
    "    def __init__(self, user_preferences, embedding_dim):\n",
    "        super().__init__()"
   ]
  },
  {
   "cell_type": "code",
   "execution_count": null,
   "metadata": {},
   "outputs": [],
   "source": [
    "class Stage2Model(torch.nn.Module):\n",
    "    '''\n",
    "        Does final computations on available node choices and returns finalized choice scores\n",
    "    '''\n",
    "    def __init__(self, n_computation_blocks, out_embedding_dim):\n",
    "        super().__init__()\n",
    "        self.computation_blocks = []\n",
    "        first = torch_geometric.nn.conv.GCNConv(in_channels=-1, \n",
    "                                                out_channels=out_embedding_dim, \n",
    "                                                add_self_loops=False)\n",
    "        self.computation_blocks.append(first)\n",
    "        for _ in range(n_computation_blocks-1):\n",
    "            block = torch_geometric.nn.conv.GCNConv(in_channels=out_embedding_dim, \n",
    "                                            out_channels=out_embedding_dim, \n",
    "                                            add_self_loops=False)\n",
    "            self.computation_blocks.append(block)\n",
    "                 \n",
    "        self.aggr = torch_geometric.nn.aggr.AddAggregation()\n",
    "        self.softmax = torch_geometric.utils.softmax\n",
    "        \n",
    "    def forward(self, network_graph):\n",
    "        for block in computation_blocks:\n",
    "            network_graph = block(network_graph)\n",
    "            \n",
    "        network_graph = self.aggr(network_graph, torch.zeros_like(network_graph.x))\n",
    "        scores = self.softmax(network_graph)\n",
    "        return scores"
   ]
  },
  {
   "cell_type": "code",
   "execution_count": null,
   "metadata": {},
   "outputs": [],
   "source": [
    "class CustomGraphModel(torch.nn.Module):\n",
    "    '''\n",
    "        Stage 1 blocks -> mask/delete -> +preference embeddings -> stage 2 blocks -> out\n",
    "    '''\n",
    "    def __init__(self, Stage1Model, PreferenceEmbedder, Stage2Model):\n",
    "        super().__init__()\n",
    "        self.Stage1Model = Stage1Model\n",
    "        self.PreferenceEmbedder = PreferenceEmbedder\n",
    "        self.Stage2Model = Stage2Model\n",
    "    \n",
    "    # Masks all nodes and edges that are not connected to the current node.\n",
    "    # The current node is excluded.\n",
    "    def get_neighbor_graph(network_graph_propagated):\n",
    "        pass\n",
    "    \n",
    "    def forward(self, network_graph, user_preferences):\n",
    "        network_graph_propagated = self.Stage1Model(network_graph)\n",
    "        \n",
    "        neighbor_graph = self.get_neighbor_graph(network_graph_propagated)\n",
    "        user_preferences_embedded = self.PreferenceEmbedder(user_preferences)\n",
    "        neighbor_graph_with_task_information = torch.add(neighbor_graph, user_preferences_embedded)\n",
    "        \n",
    "        out = self.Stage2Model(neighbor_graph_with_task_information)\n",
    "        return out"
   ]
  },
  {
   "cell_type": "code",
   "execution_count": null,
   "metadata": {},
   "outputs": [],
   "source": [
    "class RLFramework():\n",
    "    pass"
   ]
  },
  {
   "cell_type": "code",
   "execution_count": null,
   "metadata": {},
   "outputs": [],
   "source": []
  },
  {
   "cell_type": "code",
   "execution_count": null,
   "metadata": {},
   "outputs": [],
   "source": []
  },
  {
   "cell_type": "code",
   "execution_count": null,
   "metadata": {},
   "outputs": [],
   "source": []
  }
 ],
 "metadata": {
  "kernelspec": {
   "display_name": "Python 3 (ipykernel)",
   "language": "python",
   "name": "python3"
  },
  "language_info": {
   "codemirror_mode": {
    "name": "ipython",
    "version": 3
   },
   "file_extension": ".py",
   "mimetype": "text/x-python",
   "name": "python",
   "nbconvert_exporter": "python",
   "pygments_lexer": "ipython3",
   "version": "3.9.16"
  }
 },
 "nbformat": 4,
 "nbformat_minor": 2
}
